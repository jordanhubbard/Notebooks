{
 "cells": [
  {
   "cell_type": "code",
   "execution_count": 1,
   "metadata": {},
   "outputs": [
    {
     "name": "stdout",
     "output_type": "stream",
     "text": [
      "hello world\n"
     ]
    }
   ],
   "source": [
    "println(\"hello world\")\n"
   ]
  },
  {
   "cell_type": "code",
   "execution_count": 2,
   "metadata": {},
   "outputs": [
    {
     "name": "stdout",
     "output_type": "stream",
     "text": [
      "volume = 113.097\n"
     ]
    }
   ],
   "source": [
    "# function to calculate the volume of a sphere\n",
    "function sphere_vol(r)\n",
    "    # julia allows Unicode names (in UTF-8 encoding)\n",
    "    # so either \"pi\" or the symbol π can be used\n",
    "    return 4/3*pi*r^3\n",
    "end\n",
    "\n",
    "# functions can also be defined more succinctly\n",
    "quadratic(a, sqr_term, b) = (-b + sqr_term) / 2a\n",
    "\n",
    "# calculates x for 0 = a*x^2+b*x+c, arguments types can be defined in function definitions\n",
    "function quadratic2(a::Float64, b::Float64, c::Float64)\n",
    "    # unlike other languages 2a is equivalent to 2*a\n",
    "    # a^2 is used instead of a**2 or pow(a,2)\n",
    "    sqr_term = sqrt(b^2-4a*c)\n",
    "    r1 = quadratic(a, sqr_term, b)\n",
    "    r2 = quadratic(a, -sqr_term, b)\n",
    "    # multiple values can be returned from a function using tuples\n",
    "    # if the return keyword is omitted, the last term is returned\n",
    "    r1, r2\n",
    "end\n",
    "\n",
    "vol = sphere_vol(3)\n",
    "# @printf allows number formatting but does not automatically append the \\n to statements, see below\n",
    "using Printf\n",
    "@printf \"volume = %0.3f\\n\" vol "
   ]
  },
  {
   "cell_type": "code",
   "execution_count": 3,
   "metadata": {},
   "outputs": [
    {
     "name": "stdout",
     "output_type": "stream",
     "text": [
      "result 1: 3.0\n"
     ]
    }
   ],
   "source": [
    "quad1, quad2 = quadratic2(2.0, -2.0, -12.0)\n",
    "println(\"result 1: \", quad1)"
   ]
  },
  {
   "cell_type": "code",
   "execution_count": 4,
   "metadata": {},
   "outputs": [
    {
     "name": "stdout",
     "output_type": "stream",
     "text": [
      "result 2: -2.0\n"
     ]
    }
   ],
   "source": [
    "println(\"result 2: \", quad2)"
   ]
  },
  {
   "cell_type": "code",
   "execution_count": 5,
   "metadata": {
    "scrolled": true
   },
   "outputs": [
    {
     "data": {
      "text/plain": [
       "\"GeForce RTX 2080 SUPER\""
      ]
     },
     "execution_count": 5,
     "metadata": {},
     "output_type": "execute_result"
    }
   ],
   "source": [
    "using CUDAdrv; CUDAdrv.name(CuDevice(0))"
   ]
  },
  {
   "cell_type": "code",
   "execution_count": null,
   "metadata": {
    "scrolled": true
   },
   "outputs": [],
   "source": [
    "using CuArrays, FileIO, Colors, GPUArrays, BenchmarkTools, ImageShow\n",
    "using CuArrays: CuArray\n",
    "\"\"\"\n",
    "The function calculating the Julia set\n",
    "\"\"\"\n",
    "function juliaset(z0, maxiter)\n",
    "    c = ComplexF32(-0.5, 0.75)\n",
    "    z = z0\n",
    "    for i in 1:maxiter\n",
    "        abs2(z) > 4f0 && return (i - 1) % UInt8\n",
    "        z = z * z + c\n",
    "    end\n",
    "    return maxiter % UInt8 # % is used to convert without overflow check\n",
    "end\n",
    "range = 100:50:2^12\n",
    "cutimes, jltimes = Float64[], Float64[]\n",
    "function run_bench(in, out)\n",
    "  # use dot syntax to apply `juliaset` to each elemt of q_converted \n",
    "  # and write the output to result\n",
    "  out .= juliaset.(in, 16)\n",
    "  # all calls to the GPU are scheduled asynchronous, \n",
    "  # so we need to synchronize\n",
    "  GPUArrays.synchronize(out)\n",
    "end\n",
    "# store a reference to the last results for plotting\n",
    "last_jl, last_cu = nothing, nothing\n",
    "for N in range\n",
    "  w, h = N, N\n",
    "  q = [ComplexF32(r, i) for i=1:-(2.0/w):-1, r=-1.5:(3.0/h):1.5]\n",
    "  for (times, Typ) in ((cutimes, CuArray), (jltimes, Array))\n",
    "    # convert to Array or CuArray - moving the calculation to CPU/GPU\n",
    "    q_converted = Typ(q)\n",
    "    result = Typ(zeros(UInt8, size(q)))\n",
    "    for i in 1:10 # 5 samples per size\n",
    "      # benchmarking macro, all variables need to be prefixed with $\n",
    "      t = Base.@elapsed begin\n",
    "\t\t\t\trun_bench(q_converted, result)\n",
    "      end\n",
    "      global last_jl, last_cu # we're in local scope\n",
    "      if result isa CuArray\n",
    "        last_cu = result\n",
    "      else\n",
    "      \tlast_jl = result\n",
    "      end\n",
    "      push!(times, t)\n",
    "    end\n",
    "  end\n",
    "end\n",
    "\n",
    "cu_jl = hcat(Array(last_cu), last_jl)\n",
    "cmap = colormap(\"Blues\", 16 + 1)\n",
    "color_lookup(val, cmap) = cmap[val + 1]\n",
    "color_lookup.(cu_jl, (cmap,))"
   ]
  },
  {
   "cell_type": "code",
   "execution_count": null,
   "metadata": {},
   "outputs": [],
   "source": [
    "using Plots; plotly()\n",
    "x = repeat(range, inner = 10)\n",
    "speedup = jltimes ./ cutimes\n",
    "Plots.scatter(\n",
    "  log2.(x), [speedup, fill(1.0, length(speedup))], \n",
    "  label = [\"cuda\" \"cpu\"], markersize = 2, markerstrokewidth = 0,\n",
    "  legend = :right, xlabel = \"2^N\", ylabel = \"speedup\"\n",
    ")"
   ]
  }
 ],
 "metadata": {
  "kernelspec": {
   "display_name": "Julia 1.6.0-DEV",
   "language": "julia",
   "name": "julia-1.6"
  },
  "language_info": {
   "file_extension": ".jl",
   "mimetype": "application/julia",
   "name": "julia",
   "version": "1.6.0"
  }
 },
 "nbformat": 4,
 "nbformat_minor": 4
}
