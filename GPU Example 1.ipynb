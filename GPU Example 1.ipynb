{
 "cells": [
  {
   "cell_type": "code",
   "execution_count": 2,
   "metadata": {},
   "outputs": [
    {
     "name": "stdout",
     "output_type": "stream",
     "text": [
      "device name /device:GPU:0\n",
      "Running `/cpu:0` Model ...\n",
      "Running `/device:GPU:0` Model ...\n",
      "CPU average time per step: 0.19982256412506103\n",
      "GPU average time per step: 0.012298960685729981\n",
      "GPU speedup over CPU: 16.25x\n"
     ]
    }
   ],
   "source": [
    "import tensorflow as tf\n",
    "import time\n",
    "from statistics import mean \n",
    "INPUT_SHAPE = (32, 256, 256, 3)\n",
    "WARMUP_STEPS = 50\n",
    "NUM_STEPS = 200\n",
    "def define_model():\n",
    "    layer_1 = tf.keras.layers.Conv2D(64, 3)\n",
    "    layer_2 = tf.keras.layers.Conv2D(32, 3)\n",
    "    layer_3 = tf.keras.layers.Conv2D(16, 3)\n",
    "    layer_4 = tf.keras.layers.Conv2D(8, 3)\n",
    "    layers = [layer_1, layer_2, layer_3, layer_4]\n",
    "    @tf.function\n",
    "    def network():\n",
    "        network = tf.random.normal(INPUT_SHAPE)\n",
    "        for layer in layers:\n",
    "            network = layer(network)\n",
    "        return tf.math.reduce_sum(network)\n",
    "    return network\n",
    "def run_benchmark(device_name):\n",
    "    print('Running `{}` Model ...'.format(device_name))\n",
    "    with tf.device(device_name):\n",
    "        model = define_model()\n",
    "        # We run warmup\n",
    "        for _ in range(WARMUP_STEPS):\n",
    "          model().numpy()\n",
    "        # We run full benchmark \n",
    "        time_record = []\n",
    "        for _ in range(NUM_STEPS):\n",
    "            start = time.time()\n",
    "            model().numpy()\n",
    "            time_record.append(time.time()-start)\n",
    "        avg_time = mean(time_record[-50:])\n",
    "    return avg_time\n",
    "if __name__ == \"__main__\":    \n",
    "    device_name = tf.test.gpu_device_name()\n",
    "    print(\"device name\", device_name)\n",
    "    if \"gpu\" not in device_name.lower():\n",
    "        print(\n",
    "            '\\n\\nThis error most likely means that this notebook is not '\n",
    "            'configured to use a GPU. Change this in Notebook Settings via the '\n",
    "            'command palette (cmd/ctrl-shift-P) or the Edit menu.\\n\\n'\n",
    "        )\n",
    "        raise SystemError('GPU device not found')\n",
    "    cpu_avg_time = run_benchmark('/cpu:0')\n",
    "    gpu_avg_time = run_benchmark(device_name)\n",
    "    print(\"CPU average time per step:\", cpu_avg_time)\n",
    "    print(\"GPU average time per step:\", gpu_avg_time)\n",
    "    print('GPU speedup over CPU: %.2fx' % (cpu_avg_time/gpu_avg_time))"
   ]
  },
  {
   "cell_type": "code",
   "execution_count": null,
   "metadata": {},
   "outputs": [],
   "source": []
  }
 ],
 "metadata": {
  "kernelspec": {
   "display_name": "Python 3",
   "language": "python",
   "name": "python3"
  },
  "language_info": {
   "codemirror_mode": {
    "name": "ipython",
    "version": 3
   },
   "file_extension": ".py",
   "mimetype": "text/x-python",
   "name": "python",
   "nbconvert_exporter": "python",
   "pygments_lexer": "ipython3",
   "version": "3.8.5"
  }
 },
 "nbformat": 4,
 "nbformat_minor": 4
}
