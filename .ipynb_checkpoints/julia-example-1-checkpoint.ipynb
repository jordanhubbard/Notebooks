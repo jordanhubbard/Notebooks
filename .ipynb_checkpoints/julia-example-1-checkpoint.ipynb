{
 "cells": [
  {
   "cell_type": "code",
   "execution_count": 1,
   "metadata": {},
   "outputs": [
    {
     "name": "stdout",
     "output_type": "stream",
     "text": [
      "hello world\n"
     ]
    }
   ],
   "source": [
    "println(\"hello world\")\n"
   ]
  },
  {
   "cell_type": "code",
   "execution_count": 5,
   "metadata": {},
   "outputs": [
    {
     "name": "stdout",
     "output_type": "stream",
     "text": [
      "volume = 113.097\n"
     ]
    }
   ],
   "source": [
    "# function to calculate the volume of a sphere\n",
    "function sphere_vol(r)\n",
    "    # julia allows Unicode names (in UTF-8 encoding)\n",
    "    # so either \"pi\" or the symbol π can be used\n",
    "    return 4/3*pi*r^3\n",
    "end\n",
    "\n",
    "# functions can also be defined more succinctly\n",
    "quadratic(a, sqr_term, b) = (-b + sqr_term) / 2a\n",
    "\n",
    "# calculates x for 0 = a*x^2+b*x+c, arguments types can be defined in function definitions\n",
    "function quadratic2(a::Float64, b::Float64, c::Float64)\n",
    "    # unlike other languages 2a is equivalent to 2*a\n",
    "    # a^2 is used instead of a**2 or pow(a,2)\n",
    "    sqr_term = sqrt(b^2-4a*c)\n",
    "    r1 = quadratic(a, sqr_term, b)\n",
    "    r2 = quadratic(a, -sqr_term, b)\n",
    "    # multiple values can be returned from a function using tuples\n",
    "    # if the return keyword is omitted, the last term is returned\n",
    "    r1, r2\n",
    "end\n",
    "\n",
    "vol = sphere_vol(3)\n",
    "# @printf allows number formatting but does not automatically append the \\n to statements, see below\n",
    "using Printf\n",
    "@printf \"volume = %0.3f\\n\" vol "
   ]
  },
  {
   "cell_type": "code",
   "execution_count": 3,
   "metadata": {},
   "outputs": [
    {
     "name": "stdout",
     "output_type": "stream",
     "text": [
      "result 1: 3.0\n"
     ]
    }
   ],
   "source": [
    "quad1, quad2 = quadratic2(2.0, -2.0, -12.0)\n",
    "println(\"result 1: \", quad1)"
   ]
  },
  {
   "cell_type": "code",
   "execution_count": 4,
   "metadata": {},
   "outputs": [
    {
     "name": "stdout",
     "output_type": "stream",
     "text": [
      "result 2: -2.0\n"
     ]
    }
   ],
   "source": [
    "println(\"result 2: \", quad2)"
   ]
  },
  {
   "cell_type": "code",
   "execution_count": 6,
   "metadata": {},
   "outputs": [
    {
     "name": "stderr",
     "output_type": "stream",
     "text": [
      "┌ Info: Precompiling CUDAdrv [c5f51814-7f29-56b8-a69c-e4d8f6be1fde]\n",
      "└ @ Base loading.jl:1323\n"
     ]
    },
    {
     "data": {
      "text/plain": [
       "\"GeForce RTX 2080 SUPER\""
      ]
     },
     "execution_count": 6,
     "metadata": {},
     "output_type": "execute_result"
    }
   ],
   "source": [
    "using CUDAdrv; CUDAdrv.name(CuDevice(0))"
   ]
  },
  {
   "cell_type": "code",
   "execution_count": 7,
   "metadata": {},
   "outputs": [
    {
     "name": "stderr",
     "output_type": "stream",
     "text": [
      "┌ Info: Precompiling CuArrays [3a865a2d-5b23-5a0f-bc46-62713ec82fae]\n",
      "└ @ Base loading.jl:1323\n",
      "\u001b[33m\u001b[1m┌ \u001b[22m\u001b[39m\u001b[33m\u001b[1mWarning: \u001b[22m\u001b[39mModule CUDAapi with build ID 62493354515112 is missing from the cache.\n",
      "\u001b[33m\u001b[1m│ \u001b[22m\u001b[39mThis may mean CUDAapi [3895d2a7-ec45-59b8-82bb-cfc6a382f9b3] does not support precompilation but is imported by a module that does.\n",
      "\u001b[33m\u001b[1m└ \u001b[22m\u001b[39m\u001b[90m@ Base loading.jl:918\u001b[39m\n",
      "┌ Info: Skipping precompilation since __precompile__(false). Importing CuArrays [3a865a2d-5b23-5a0f-bc46-62713ec82fae].\n",
      "└ @ Base loading.jl:1034\n",
      "┌ Info: Precompiling CUDAnative [be33ccc6-a3ff-5ff2-a52e-74243cff1e17]\n",
      "└ @ Base loading.jl:1323\n",
      "\u001b[33m\u001b[1m┌ \u001b[22m\u001b[39m\u001b[33m\u001b[1mWarning: \u001b[22m\u001b[39mModule CUDAapi with build ID 62493354515112 is missing from the cache.\n",
      "\u001b[33m\u001b[1m│ \u001b[22m\u001b[39mThis may mean CUDAapi [3895d2a7-ec45-59b8-82bb-cfc6a382f9b3] does not support precompilation but is imported by a module that does.\n",
      "\u001b[33m\u001b[1m└ \u001b[22m\u001b[39m\u001b[90m@ Base loading.jl:918\u001b[39m\n",
      "┌ Info: Skipping precompilation since __precompile__(false). Importing CUDAnative [be33ccc6-a3ff-5ff2-a52e-74243cff1e17].\n",
      "└ @ Base loading.jl:1034\n",
      "┌ Info: Precompiling LLVM [929cbde3-209d-540e-8aea-75f648917ca0]\n",
      "└ @ Base loading.jl:1323\n",
      "\u001b[33m\u001b[1m┌ \u001b[22m\u001b[39m\u001b[33m\u001b[1mWarning: \u001b[22m\u001b[39mModule CEnum with build ID 62493759125773 is missing from the cache.\n",
      "\u001b[33m\u001b[1m│ \u001b[22m\u001b[39mThis may mean CEnum [fa961155-64e5-5f13-b03f-caf6b980ea82] does not support precompilation but is imported by a module that does.\n",
      "\u001b[33m\u001b[1m└ \u001b[22m\u001b[39m\u001b[90m@ Base loading.jl:918\u001b[39m\n",
      "┌ Info: Skipping precompilation since __precompile__(false). Importing LLVM [929cbde3-209d-540e-8aea-75f648917ca0].\n",
      "└ @ Base loading.jl:1034\n",
      "┌ Info: Precompiling GPUCompiler [61eb1bfa-7361-4325-ad38-22787b887f55]\n",
      "└ @ Base loading.jl:1323\n",
      "\u001b[33m\u001b[1m┌ \u001b[22m\u001b[39m\u001b[33m\u001b[1mWarning: \u001b[22m\u001b[39mModule LLVM with build ID 62860852290278 is missing from the cache.\n",
      "\u001b[33m\u001b[1m│ \u001b[22m\u001b[39mThis may mean LLVM [929cbde3-209d-540e-8aea-75f648917ca0] does not support precompilation but is imported by a module that does.\n",
      "\u001b[33m\u001b[1m└ \u001b[22m\u001b[39m\u001b[90m@ Base loading.jl:918\u001b[39m\n",
      "┌ Info: Skipping precompilation since __precompile__(false). Importing GPUCompiler [61eb1bfa-7361-4325-ad38-22787b887f55].\n",
      "└ @ Base loading.jl:1034\n",
      "┌ Info: Precompiling DataStructures [864edb3b-99cc-5e75-8d2d-829cb0a9cfe8]\n",
      "└ @ Base loading.jl:1323\n",
      "┌ Warning: The call to compilecache failed to create a usable precompiled cache file for DataStructures [864edb3b-99cc-5e75-8d2d-829cb0a9cfe8]\n",
      "│   exception = ArgumentError(\"Invalid header in cache file /home/jkh/.julia/compiled/v1.6/DataStructures/xKiwJ_zRSTW.ji.\")\n",
      "└ @ Base loading.jl:1042\n",
      "┌ Info: Precompiling OrderedCollections [bac558e1-5e72-5ebc-8fee-abe8a469f55d]\n",
      "└ @ Base loading.jl:1323\n",
      "┌ Warning: The call to compilecache failed to create a usable precompiled cache file for OrderedCollections [bac558e1-5e72-5ebc-8fee-abe8a469f55d]\n",
      "│   exception = ArgumentError(\"Invalid header in cache file /home/jkh/.julia/compiled/v1.6/OrderedCollections/LtT3J_zRSTW.ji.\")\n",
      "└ @ Base loading.jl:1042\n",
      "┌ Info: Precompiling TimerOutputs [a759f4b9-e2f1-59dc-863e-4aeb61b1ea8f]\n",
      "└ @ Base loading.jl:1323\n",
      "┌ Warning: The call to compilecache failed to create a usable precompiled cache file for TimerOutputs [a759f4b9-e2f1-59dc-863e-4aeb61b1ea8f]\n",
      "│   exception = ArgumentError(\"Invalid header in cache file /home/jkh/.julia/compiled/v1.6/TimerOutputs/hd2yD_zRSTW.ji.\")\n",
      "└ @ Base loading.jl:1042\n",
      "┌ Info: Precompiling Cthulhu [f68482b8-f384-11e8-15f7-abe071a5a75f]\n",
      "└ @ Base loading.jl:1323\n",
      "┌ Warning: The call to compilecache failed to create a usable precompiled cache file for Cthulhu [f68482b8-f384-11e8-15f7-abe071a5a75f]\n",
      "│   exception = ArgumentError(\"Invalid header in cache file /home/jkh/.julia/compiled/v1.6/Cthulhu/Dqimq_zRSTW.ji.\")\n",
      "└ @ Base loading.jl:1042\n",
      "┌ Info: Precompiling CodeTracking [da1fd8a2-8d9e-5ec2-8556-3022fb5608a2]\n",
      "└ @ Base loading.jl:1323\n",
      "┌ Warning: The call to compilecache failed to create a usable precompiled cache file for CodeTracking [da1fd8a2-8d9e-5ec2-8556-3022fb5608a2]\n",
      "│   exception = ArgumentError(\"Invalid header in cache file /home/jkh/.julia/compiled/v1.6/CodeTracking/a3E2l_zRSTW.ji.\")\n",
      "└ @ Base loading.jl:1042\n",
      "┌ Info: Precompiling FoldingTrees [1eca21be-9b9b-4ed8-839a-6d8ae26b1781]\n",
      "└ @ Base loading.jl:1323\n",
      "┌ Warning: The call to compilecache failed to create a usable precompiled cache file for FoldingTrees [1eca21be-9b9b-4ed8-839a-6d8ae26b1781]\n",
      "│   exception = ArgumentError(\"Invalid header in cache file /home/jkh/.julia/compiled/v1.6/FoldingTrees/8XNn2_zRSTW.ji.\")\n",
      "└ @ Base loading.jl:1042\n",
      "┌ Info: Precompiling AbstractTrees [1520ce14-60c1-5f80-bbc7-55ef81b5835c]\n",
      "└ @ Base loading.jl:1323\n",
      "┌ Warning: The call to compilecache failed to create a usable precompiled cache file for AbstractTrees [1520ce14-60c1-5f80-bbc7-55ef81b5835c]\n",
      "│   exception = ArgumentError(\"Invalid header in cache file /home/jkh/.julia/compiled/v1.6/AbstractTrees/tEX7J_zRSTW.ji.\")\n",
      "└ @ Base loading.jl:1042\n",
      "┌ Info: Precompiling Adapt [79e6a3ab-5dfb-504d-930d-738a2a938a0e]\n",
      "└ @ Base loading.jl:1323\n",
      "┌ Warning: The call to compilecache failed to create a usable precompiled cache file for Adapt [79e6a3ab-5dfb-504d-930d-738a2a938a0e]\n",
      "│   exception = ArgumentError(\"Invalid header in cache file /home/jkh/.julia/compiled/v1.6/Adapt/rUIgN_zRSTW.ji.\")\n",
      "└ @ Base loading.jl:1042\n",
      "┌ Info: Precompiling ExprTools [e2ba6199-217a-4e67-a87a-7c52f15ade04]\n",
      "└ @ Base loading.jl:1323\n",
      "┌ Warning: The call to compilecache failed to create a usable precompiled cache file for ExprTools [e2ba6199-217a-4e67-a87a-7c52f15ade04]\n",
      "│   exception = ArgumentError(\"Invalid header in cache file /home/jkh/.julia/compiled/v1.6/ExprTools/eM8wu_zRSTW.ji.\")\n",
      "└ @ Base loading.jl:1042\n",
      "┌ Info: Precompiling GPUArrays [0c68f7d7-f131-5f86-a1c3-88cf8149b2d7]\n",
      "└ @ Base loading.jl:1323\n",
      "\u001b[33m\u001b[1m┌ \u001b[22m\u001b[39m\u001b[33m\u001b[1mWarning: \u001b[22m\u001b[39mModule Adapt with build ID 62872804495391 is missing from the cache.\n",
      "\u001b[33m\u001b[1m│ \u001b[22m\u001b[39mThis may mean Adapt [79e6a3ab-5dfb-504d-930d-738a2a938a0e] does not support precompilation but is imported by a module that does.\n",
      "\u001b[33m\u001b[1m└ \u001b[22m\u001b[39m\u001b[90m@ Base loading.jl:918\u001b[39m\n",
      "┌ Info: Skipping precompilation since __precompile__(false). Importing GPUArrays [0c68f7d7-f131-5f86-a1c3-88cf8149b2d7].\n",
      "└ @ Base loading.jl:1034\n",
      "┌ Info: Precompiling AbstractFFTs [621f4979-c628-5d54-868e-fcf4e3e8185c]\n",
      "└ @ Base loading.jl:1323\n",
      "┌ Warning: The call to compilecache failed to create a usable precompiled cache file for AbstractFFTs [621f4979-c628-5d54-868e-fcf4e3e8185c]\n",
      "│   exception = ArgumentError(\"Invalid header in cache file /home/jkh/.julia/compiled/v1.6/AbstractFFTs/Di3HZ_zRSTW.ji.\")\n",
      "└ @ Base loading.jl:1042\n",
      "┌ Info: Precompiling Requires [ae029012-a4dd-5104-9daa-d747884805df]\n",
      "└ @ Base loading.jl:1323\n",
      "┌ Warning: The call to compilecache failed to create a usable precompiled cache file for Requires [ae029012-a4dd-5104-9daa-d747884805df]\n",
      "│   exception = ArgumentError(\"Invalid header in cache file /home/jkh/.julia/compiled/v1.6/Requires/IyxeS_zRSTW.ji.\")\n",
      "└ @ Base loading.jl:1042\n",
      "┌ Info: Precompiling Reexport [189a3867-3050-52da-a836-e630ba90ab69]\n",
      "└ @ Base loading.jl:1323\n",
      "┌ Warning: The call to compilecache failed to create a usable precompiled cache file for Reexport [189a3867-3050-52da-a836-e630ba90ab69]\n",
      "│   exception = ArgumentError(\"Invalid header in cache file /home/jkh/.julia/compiled/v1.6/Reexport/bTpYr_zRSTW.ji.\")\n",
      "└ @ Base loading.jl:1042\n",
      "┌ Info: Precompiling NNlib [872c559c-99b0-510c-b3b7-b6c96a88d5cd]\n",
      "└ @ Base loading.jl:1323\n",
      "\u001b[33m\u001b[1m┌ \u001b[22m\u001b[39m\u001b[33m\u001b[1mWarning: \u001b[22m\u001b[39mModule Requires with build ID 62878401281426 is missing from the cache.\n",
      "\u001b[33m\u001b[1m│ \u001b[22m\u001b[39mThis may mean Requires [ae029012-a4dd-5104-9daa-d747884805df] does not support precompilation but is imported by a module that does.\n",
      "\u001b[33m\u001b[1m└ \u001b[22m\u001b[39m\u001b[90m@ Base loading.jl:918\u001b[39m\n",
      "┌ Info: Skipping precompilation since __precompile__(false). Importing NNlib [872c559c-99b0-510c-b3b7-b6c96a88d5cd].\n",
      "└ @ Base loading.jl:1034\n",
      "┌ Info: Precompiling MacroTools [1914dd2f-81c6-5fcd-8719-6d5c9610ff09]\n",
      "└ @ Base loading.jl:1323\n",
      "┌ Warning: The call to compilecache failed to create a usable precompiled cache file for MacroTools [1914dd2f-81c6-5fcd-8719-6d5c9610ff09]\n",
      "│   exception = ArgumentError(\"Invalid header in cache file /home/jkh/.julia/compiled/v1.6/MacroTools/38lnR_zRSTW.ji.\")\n",
      "└ @ Base loading.jl:1042\n",
      "┌ Info: Precompiling FileIO [5789e2e9-d7fb-5bc7-8068-2c6fae9b9549]\n",
      "└ @ Base loading.jl:1323\n"
     ]
    },
    {
     "name": "stderr",
     "output_type": "stream",
     "text": [
      "┌ Warning: The call to compilecache failed to create a usable precompiled cache file for FileIO [5789e2e9-d7fb-5bc7-8068-2c6fae9b9549]\n",
      "│   exception = ArgumentError(\"Invalid header in cache file /home/jkh/.julia/compiled/v1.6/FileIO/6iKRU_zRSTW.ji.\")\n",
      "└ @ Base loading.jl:1042\n",
      "┌ Info: Precompiling Colors [5ae59095-9a9b-59fe-a467-6f913c188581]\n",
      "└ @ Base loading.jl:1323\n",
      "\u001b[33m\u001b[1m┌ \u001b[22m\u001b[39m\u001b[33m\u001b[1mWarning: \u001b[22m\u001b[39mModule Reexport with build ID 62889093049743 is missing from the cache.\n",
      "\u001b[33m\u001b[1m│ \u001b[22m\u001b[39mThis may mean Reexport [189a3867-3050-52da-a836-e630ba90ab69] does not support precompilation but is imported by a module that does.\n",
      "\u001b[33m\u001b[1m└ \u001b[22m\u001b[39m\u001b[90m@ Base loading.jl:918\u001b[39m\n",
      "┌ Info: Skipping precompilation since __precompile__(false). Importing Colors [5ae59095-9a9b-59fe-a467-6f913c188581].\n",
      "└ @ Base loading.jl:1034\n",
      "┌ Info: Precompiling FixedPointNumbers [53c48c17-4a7d-5ca2-90c5-79b7896eea93]\n",
      "└ @ Base loading.jl:1323\n",
      "┌ Warning: The call to compilecache failed to create a usable precompiled cache file for FixedPointNumbers [53c48c17-4a7d-5ca2-90c5-79b7896eea93]\n",
      "│   exception = ArgumentError(\"Invalid header in cache file /home/jkh/.julia/compiled/v1.6/FixedPointNumbers/Ple2W_zRSTW.ji.\")\n",
      "└ @ Base loading.jl:1042\n",
      "┌ Info: Precompiling ColorTypes [3da002f7-5984-5a60-b8a6-cbb66c0b333f]\n",
      "└ @ Base loading.jl:1323\n",
      "\u001b[33m\u001b[1m┌ \u001b[22m\u001b[39m\u001b[33m\u001b[1mWarning: \u001b[22m\u001b[39mModule FixedPointNumbers with build ID 62904130033492 is missing from the cache.\n",
      "\u001b[33m\u001b[1m│ \u001b[22m\u001b[39mThis may mean FixedPointNumbers [53c48c17-4a7d-5ca2-90c5-79b7896eea93] does not support precompilation but is imported by a module that does.\n",
      "\u001b[33m\u001b[1m└ \u001b[22m\u001b[39m\u001b[90m@ Base loading.jl:918\u001b[39m\n",
      "┌ Info: Skipping precompilation since __precompile__(false). Importing ColorTypes [3da002f7-5984-5a60-b8a6-cbb66c0b333f].\n",
      "└ @ Base loading.jl:1034\n",
      "┌ Info: Precompiling BenchmarkTools [6e4b80f9-dd63-53aa-95a3-0cdb28fa8baf]\n",
      "└ @ Base loading.jl:1323\n",
      "\u001b[33m\u001b[1m┌ \u001b[22m\u001b[39m\u001b[33m\u001b[1mWarning: \u001b[22m\u001b[39mModule JSON with build ID 60958293277035 is missing from the cache.\n",
      "\u001b[33m\u001b[1m│ \u001b[22m\u001b[39mThis may mean JSON [682c06a0-de6a-54ab-a142-c8b1cf79cde6] does not support precompilation but is imported by a module that does.\n",
      "\u001b[33m\u001b[1m└ \u001b[22m\u001b[39m\u001b[90m@ Base loading.jl:918\u001b[39m\n",
      "┌ Info: Skipping precompilation since __precompile__(false). Importing BenchmarkTools [6e4b80f9-dd63-53aa-95a3-0cdb28fa8baf].\n",
      "└ @ Base loading.jl:1034\n",
      "┌ Info: Precompiling ImageShow [4e3cecfd-b093-5904-9786-8bbb286a6a31]\n",
      "└ @ Base loading.jl:1323\n",
      "\u001b[33m\u001b[1m┌ \u001b[22m\u001b[39m\u001b[33m\u001b[1mWarning: \u001b[22m\u001b[39mModule Requires with build ID 62878401281426 is missing from the cache.\n",
      "\u001b[33m\u001b[1m│ \u001b[22m\u001b[39mThis may mean Requires [ae029012-a4dd-5104-9daa-d747884805df] does not support precompilation but is imported by a module that does.\n",
      "\u001b[33m\u001b[1m└ \u001b[22m\u001b[39m\u001b[90m@ Base loading.jl:918\u001b[39m\n",
      "┌ Info: Skipping precompilation since __precompile__(false). Importing ImageShow [4e3cecfd-b093-5904-9786-8bbb286a6a31].\n",
      "└ @ Base loading.jl:1034\n",
      "┌ Info: Precompiling ImageCore [a09fc81d-aa75-5fe9-8630-4744c3626534]\n",
      "└ @ Base loading.jl:1323\n",
      "\u001b[33m\u001b[1m┌ \u001b[22m\u001b[39m\u001b[33m\u001b[1mWarning: \u001b[22m\u001b[39mModule Reexport with build ID 62889093049743 is missing from the cache.\n",
      "\u001b[33m\u001b[1m│ \u001b[22m\u001b[39mThis may mean Reexport [189a3867-3050-52da-a836-e630ba90ab69] does not support precompilation but is imported by a module that does.\n",
      "\u001b[33m\u001b[1m└ \u001b[22m\u001b[39m\u001b[90m@ Base loading.jl:918\u001b[39m\n",
      "┌ Info: Skipping precompilation since __precompile__(false). Importing ImageCore [a09fc81d-aa75-5fe9-8630-4744c3626534].\n",
      "└ @ Base loading.jl:1034\n",
      "┌ Info: Precompiling MosaicViews [e94cdb99-869f-56ef-bcf0-1ae2bcbe0389]\n",
      "└ @ Base loading.jl:1323\n",
      "┌ Warning: The call to compilecache failed to create a usable precompiled cache file for MosaicViews [e94cdb99-869f-56ef-bcf0-1ae2bcbe0389]\n",
      "│   exception = ArgumentError(\"Invalid header in cache file /home/jkh/.julia/compiled/v1.6/MosaicViews/X3bJX_zRSTW.ji.\")\n",
      "└ @ Base loading.jl:1042\n",
      "┌ Info: Precompiling PaddedViews [5432bcbf-9aad-5242-b902-cca2824c8663]\n",
      "└ @ Base loading.jl:1323\n",
      "┌ Warning: The call to compilecache failed to create a usable precompiled cache file for PaddedViews [5432bcbf-9aad-5242-b902-cca2824c8663]\n",
      "│   exception = ArgumentError(\"Invalid header in cache file /home/jkh/.julia/compiled/v1.6/PaddedViews/SrUyA_zRSTW.ji.\")\n",
      "└ @ Base loading.jl:1042\n",
      "┌ Info: Precompiling OffsetArrays [6fe1bfb0-de20-5000-8ca7-80f57d26f881]\n",
      "└ @ Base loading.jl:1323\n",
      "┌ Warning: The call to compilecache failed to create a usable precompiled cache file for OffsetArrays [6fe1bfb0-de20-5000-8ca7-80f57d26f881]\n",
      "│   exception = ArgumentError(\"Invalid header in cache file /home/jkh/.julia/compiled/v1.6/OffsetArrays/UDEDl_zRSTW.ji.\")\n",
      "└ @ Base loading.jl:1042\n",
      "┌ Info: Precompiling MappedArrays [dbb5928d-eab1-5f90-85c2-b9b0edb7c900]\n",
      "└ @ Base loading.jl:1323\n",
      "┌ Warning: The call to compilecache failed to create a usable precompiled cache file for MappedArrays [dbb5928d-eab1-5f90-85c2-b9b0edb7c900]\n",
      "│   exception = ArgumentError(\"Invalid header in cache file /home/jkh/.julia/compiled/v1.6/MappedArrays/xJB11_zRSTW.ji.\")\n",
      "└ @ Base loading.jl:1042\n",
      "┌ Info: Precompiling Graphics [a2bd30eb-e257-5431-a919-1863eab51364]\n",
      "└ @ Base loading.jl:1323\n",
      "\u001b[33m\u001b[1m┌ \u001b[22m\u001b[39m\u001b[33m\u001b[1mWarning: \u001b[22m\u001b[39mModule Colors with build ID 62903325707823 is missing from the cache.\n",
      "\u001b[33m\u001b[1m│ \u001b[22m\u001b[39mThis may mean Colors [5ae59095-9a9b-59fe-a467-6f913c188581] does not support precompilation but is imported by a module that does.\n",
      "\u001b[33m\u001b[1m└ \u001b[22m\u001b[39m\u001b[90m@ Base loading.jl:918\u001b[39m\n",
      "┌ Info: Skipping precompilation since __precompile__(false). Importing Graphics [a2bd30eb-e257-5431-a919-1863eab51364].\n",
      "└ @ Base loading.jl:1034\n",
      "┌ Info: Precompiling NaNMath [77ba4419-2d1f-58cd-9bb1-8ffee604a2e3]\n",
      "└ @ Base loading.jl:1323\n",
      "┌ Warning: The call to compilecache failed to create a usable precompiled cache file for NaNMath [77ba4419-2d1f-58cd-9bb1-8ffee604a2e3]\n",
      "│   exception = ArgumentError(\"Invalid header in cache file /home/jkh/.julia/compiled/v1.6/NaNMath/k9Y1O_zRSTW.ji.\")\n",
      "└ @ Base loading.jl:1042\n"
     ]
    },
    {
     "ename": "LoadError",
     "evalue": "SYSTEM: show(lasterr) caused an error",
     "output_type": "error",
     "traceback": [
      "SYSTEM: show(lasterr) caused an error",
      "",
      "Stacktrace:",
      " [1] alloc",
      "   @ ~/.julia/packages/CuArrays/YFdj7/src/memory.jl:202 [inlined]",
      " [2] (CuMatrix{ComplexF32,P} where P)(#unused#::UndefInitializer, dims::Tuple{Int64,Int64})",
      "   @ CuArrays ~/.julia/packages/CuArrays/YFdj7/src/array.jl:107",
      " [3] CuArray",
      "   @ ~/.julia/packages/CuArrays/YFdj7/src/array.jl:191 [inlined]",
      " [4] CuArray(A::Matrix{ComplexF32})",
      "   @ CuArrays ~/.julia/packages/CuArrays/YFdj7/src/array.jl:202",
      " [5] top-level scope",
      "   @ In[7]:32",
      " [6] eval",
      "   @ ./boot.jl:340 [inlined]",
      " [7] include_string(mapexpr::typeof(REPL.softscope), mod::Module, code::String, filename::String)",
      "   @ Base ./loading.jl:1103"
     ]
    }
   ],
   "source": [
    "using CuArrays, FileIO, Colors, GPUArrays, BenchmarkTools, ImageShow\n",
    "using CuArrays: CuArray\n",
    "\"\"\"\n",
    "The function calculating the Julia set\n",
    "\"\"\"\n",
    "function juliaset(z0, maxiter)\n",
    "    c = ComplexF32(-0.5, 0.75)\n",
    "    z = z0\n",
    "    for i in 1:maxiter\n",
    "        abs2(z) > 4f0 && return (i - 1) % UInt8\n",
    "        z = z * z + c\n",
    "    end\n",
    "    return maxiter % UInt8 # % is used to convert without overflow check\n",
    "end\n",
    "range = 100:50:2^12\n",
    "cutimes, jltimes = Float64[], Float64[]\n",
    "function run_bench(in, out)\n",
    "  # use dot syntax to apply `juliaset` to each elemt of q_converted \n",
    "  # and write the output to result\n",
    "  out .= juliaset.(in, 16)\n",
    "  # all calls to the GPU are scheduled asynchronous, \n",
    "  # so we need to synchronize\n",
    "  GPUArrays.synchronize(out)\n",
    "end\n",
    "# store a reference to the last results for plotting\n",
    "last_jl, last_cu = nothing, nothing\n",
    "for N in range\n",
    "  w, h = N, N\n",
    "  q = [ComplexF32(r, i) for i=1:-(2.0/w):-1, r=-1.5:(3.0/h):1.5]\n",
    "  for (times, Typ) in ((cutimes, CuArray), (jltimes, Array))\n",
    "    # convert to Array or CuArray - moving the calculation to CPU/GPU\n",
    "    q_converted = Typ(q)\n",
    "    result = Typ(zeros(UInt8, size(q)))\n",
    "    for i in 1:10 # 5 samples per size\n",
    "      # benchmarking macro, all variables need to be prefixed with $\n",
    "      t = Base.@elapsed begin\n",
    "\t\t\t\trun_bench(q_converted, result)\n",
    "      end\n",
    "      global last_jl, last_cu # we're in local scope\n",
    "      if result isa CuArray\n",
    "        last_cu = result\n",
    "      else\n",
    "      \tlast_jl = result\n",
    "      end\n",
    "      push!(times, t)\n",
    "    end\n",
    "  end\n",
    "end\n",
    "\n",
    "cu_jl = hcat(Array(last_cu), last_jl)\n",
    "cmap = colormap(\"Blues\", 16 + 1)\n",
    "color_lookup(val, cmap) = cmap[val + 1]\n",
    "color_lookup.(cu_jl, (cmap,))"
   ]
  },
  {
   "cell_type": "code",
   "execution_count": null,
   "metadata": {},
   "outputs": [],
   "source": []
  }
 ],
 "metadata": {
  "kernelspec": {
   "display_name": "Julia 1.6.0-DEV",
   "language": "julia",
   "name": "julia-1.6"
  },
  "language_info": {
   "file_extension": ".jl",
   "mimetype": "application/julia",
   "name": "julia",
   "version": "1.6.0"
  }
 },
 "nbformat": 4,
 "nbformat_minor": 4
}
