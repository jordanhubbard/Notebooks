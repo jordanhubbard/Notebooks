{
 "cells": [
  {
   "cell_type": "code",
   "execution_count": null,
   "metadata": {
    "scrolled": true
   },
   "outputs": [],
   "source": [
    "import Pkg; Pkg.add(\"CUDAdrv\")\n",
    "import Pkg; Pkg.add(\"CuArrays\")\n",
    "import Pkg; Pkg.add(\"FileIO\")\n",
    "import Pkg; Pkg.add(\"Colors\")\n",
    "import Pkg; Pkg.add(\"GPUArrays\")\n",
    "import Pkg; Pkg.add(\"BenchmarkTools\")\n",
    "import Pkg; Pkg.add(\"ImageShow\")\n",
    "import Pkg; Pkg.add(\"Plots\")\n",
    "        \n",
    "using CUDAdrv; CUDAdrv.name(CuDevice(0))"
   ]
  },
  {
   "cell_type": "code",
   "execution_count": null,
   "metadata": {
    "scrolled": true
   },
   "outputs": [],
   "source": [
    "using FileIO, Colors, GPUArrays, BenchmarkTools, ImageShow\n",
    "\n",
    "\"\"\"\n",
    "The function calculating the Julia set\n",
    "\"\"\"\n",
    "function juliaset(z0, maxiter)\n",
    "    c = ComplexF32(-0.5, 0.75)\n",
    "    z = z0\n",
    "    for i in 1:maxiter\n",
    "        abs2(z) > 4f0 && return (i - 1) % UInt8\n",
    "        z = z * z + c\n",
    "    end\n",
    "    return maxiter % UInt8 # % is used to convert without overflow check\n",
    "end\n",
    "range = 100:50:2^12\n",
    "cutimes, jltimes = Float64[], Float64[]\n",
    "function run_bench(in, out)\n",
    "  # use dot syntax to apply `juliaset` to each elemt of q_converted \n",
    "  # and write the output to result\n",
    "  out .= juliaset.(in, 16)\n",
    "  # all calls to the GPU are scheduled asynchronous, \n",
    "  # so we need to synchronize\n",
    "  GPUArrays.synchronize(out)\n",
    "end\n",
    "# store a reference to the last results for plotting\n",
    "last_jl, last_cu = nothing, nothing\n",
    "for N in range\n",
    "  w, h = N, N\n",
    "  q = [ComplexF32(r, i) for i=1:-(2.0/w):-1, r=-1.5:(3.0/h):1.5]\n",
    "  for (times, Typ) in ((cutimes,Array), (jltimes, Array))\n",
    "    # convert to Array or CuArray - moving the calculation to CPU/GPU\n",
    "    q_converted = Typ(q)\n",
    "    result = Typ(zeros(UInt8, size(q)))\n",
    "    for i in 1:10 # 5 samples per size\n",
    "      # benchmarking macro, all variables need to be prefixed with $\n",
    "      t = Base.@elapsed begin\n",
    "\t\t\t\trun_bench(q_converted, result)\n",
    "      end\n",
    "      global last_jl, last_cu # we're in local scope\n",
    "      if result isa Array\n",
    "        last_cu = result\n",
    "      else\n",
    "      \tlast_jl = result\n",
    "      end\n",
    "      push!(times, t)\n",
    "    end\n",
    "  end\n",
    "end\n",
    "\n",
    "cu_jl = hcat(Array(last_cu), last_jl)\n",
    "cmap = colormap(\"Blues\", 16 + 1)\n",
    "color_lookup(val, cmap) = cmap[val + 1]\n",
    "color_lookup.(cu_jl, (cmap,))"
   ]
  },
  {
   "cell_type": "code",
   "execution_count": null,
   "metadata": {},
   "outputs": [],
   "source": [
    "using Plots; plotly()\n",
    "x = repeat(range, inner = 10)\n",
    "speedup = jltimes ./ cutimes\n",
    "Plots.scatter(\n",
    "  log2.(x), [speedup, fill(1.0, length(speedup))], \n",
    "  label = [\"cuda\" \"cpu\"], markersize = 2, markerstrokewidth = 0,\n",
    "  legend = :right, xlabel = \"2^N\", ylabel = \"speedup\"\n",
    ")"
   ]
  },
  {
   "cell_type": "code",
   "execution_count": null,
   "metadata": {},
   "outputs": [],
   "source": []
  }
 ],
 "metadata": {
  "kernelspec": {
   "display_name": "Julia 1.6.0-DEV",
   "language": "julia",
   "name": "julia-1.6"
  },
  "language_info": {
   "file_extension": ".jl",
   "mimetype": "application/julia",
   "name": "julia",
   "version": "1.6.0"
  }
 },
 "nbformat": 4,
 "nbformat_minor": 4
}
